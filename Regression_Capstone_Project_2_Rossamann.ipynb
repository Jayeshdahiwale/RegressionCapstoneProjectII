{
  "nbformat": 4,
  "nbformat_minor": 0,
  "metadata": {
    "colab": {
      "private_outputs": true,
      "provenance": [],
      "collapsed_sections": [
        "vncDsAP0Gaoa",
        "FJNUwmbgGyua",
        "w6K7xa23Elo4",
        "yQaldy8SH6Dl",
        "PH-0ReGfmX4f",
        "mDgbUHAGgjLW",
        "O_i_v8NEhb9l",
        "HhfV-JJviCcP",
        "Y3lxredqlCYt",
        "3RnN4peoiCZX",
        "x71ZqKXriCWQ",
        "7hBIi_osiCS2",
        "JlHwYmJAmNHm",
        "35m5QtbWiB9F",
        "PoPl-ycgm1ru",
        "H0kj-8xxnORC",
        "nA9Y7ga8ng1Z",
        "PBTbrJXOngz2",
        "u3PMJOP6ngxN",
        "dauF4eBmngu3",
        "bKJF3rekwFvQ",
        "MSa1f5Uengrz",
        "GF8Ens_Soomf",
        "0wOQAZs5pc--",
        "K5QZ13OEpz2H",
        "lQ7QKXXCp7Bj",
        "448CDAPjqfQr",
        "KSlN3yHqYklG",
        "t6dVpIINYklI",
        "ijmpgYnKYklI",
        "-JiQyfWJYklI",
        "EM7whBJCYoAo",
        "fge-S5ZAYoAp",
        "85gYPyotYoAp",
        "RoGjAbkUYoAp",
        "4Of9eVA-YrdM",
        "iky9q4vBYrdO",
        "F6T5p64dYrdO",
        "y-Ehk30pYrdP",
        "bamQiAODYuh1",
        "QHF8YVU7Yuh3",
        "GwzvFGzlYuh3",
        "qYpmQ266Yuh3",
        "OH-pJp9IphqM",
        "bbFf2-_FphqN",
        "_ouA3fa0phqN",
        "Seke61FWphqN",
        "PIIx-8_IphqN",
        "t27r6nlMphqO",
        "r2jJGEOYphqO",
        "b0JNsNcRphqO",
        "BZR9WyysphqO",
        "jj7wYXLtphqO",
        "eZrbJ2SmphqO",
        "rFu4xreNphqO",
        "YJ55k-q6phqO",
        "gCFgpxoyphqP",
        "OVtJsKN_phqQ",
        "lssrdh5qphqQ",
        "U2RJ9gkRphqQ",
        "1M8mcRywphqQ",
        "tgIPom80phqQ",
        "JMzcOPDDphqR",
        "x-EpHcCOp1ci",
        "X_VqEhTip1ck",
        "8zGJKyg5p1ck",
        "PVzmfK_Ep1ck",
        "n3dbpmDWp1ck",
        "ylSl6qgtp1ck",
        "ZWILFDl5p1ck",
        "M7G43BXep1ck",
        "Ag9LCva-p1cl",
        "E6MkPsBcp1cl",
        "2cELzS2fp1cl",
        "3MPXvC8up1cl",
        "NC_X3p0fY2L0",
        "UV0SzAkaZNRQ",
        "YPEH6qLeZNRQ",
        "q29F0dvdveiT",
        "EXh0U9oCveiU",
        "22aHeOlLveiV",
        "JcMwzZxoAimU",
        "8G2x9gOozGDZ",
        "gCX9965dhzqZ",
        "gIfDvo9L0UH2"
      ]
    },
    "kernelspec": {
      "name": "python3",
      "display_name": "Python 3"
    },
    "language_info": {
      "name": "python"
    },
    "gpuClass": "standard"
  },
  "cells": [
    {
      "cell_type": "markdown",
      "source": [
        "# **Project Name**    - Rosamann Retails Sales Prediction\n",
        "\n"
      ],
      "metadata": {
        "id": "vncDsAP0Gaoa"
      }
    },
    {
      "cell_type": "markdown",
      "source": [
        "##### **Project Type**    - Regression\n",
        "##### **Contribution**    - Individual\n",
        "##### **Member 1 -**  - Jayesh Prakash Dahiwale\n"
      ],
      "metadata": {
        "id": "beRrZCGUAJYm"
      }
    },
    {
      "cell_type": "markdown",
      "source": [
        "# **Project Summary -**"
      ],
      "metadata": {
        "id": "FJNUwmbgGyua"
      }
    },
    {
      "cell_type": "markdown",
      "source": [
        "**Rossmann operates over 3,000 drug stores in 7 european countries. So our porject aim is to predict their daily sales for upto six weeks in advance. Stores sales are influenced by many factors, including promotions, competitions,school and state holidays, seasonality and locality. So In this project we have been provided the data from 1,500 Rossmann stores. So our task is to forecast the \"Sales\" column for the test** \n",
        "##<p>Provided there are two datasets, one is **Store** dataset having <b>1,115</b> observations in it with <b>10</b> columns and It gives us static information about each store such as the model and assortment of the store, information about the nearest competitor store, and whether or not they participate in the consecutive promotion \"Promo2\". Largely we're looking at numerical and date data, but Store Type and Assortment are flagged with letters to indicate store models and assorment level, per the variable explanations, as well as the PromoInterval column listing abbreviated months.</p>\n",
        "## <p>Other datatset is about **Sales** dataset having <b>1,017,209</b> observations in it with <b>9</b> columns and It gives us static information about each store such as the model and assortment of the store, information about the nearest competitor store, and whether or not they participate in the consecutive promotion \"Promo2\". Largely we're looking at numerical and date data, but Store Type and Assortment are flagged with letters to indicate store models and assorment level, per the variable explanations, as well as the PromoInterval column listing abbreviated months.</p>"
      ],
      "metadata": {
        "id": "F6v_1wHtG2nS"
      }
    },
    {
      "cell_type": "markdown",
      "source": [
        "# **GitHub Link -**"
      ],
      "metadata": {
        "id": "w6K7xa23Elo4"
      }
    },
    {
      "cell_type": "markdown",
      "source": [
        "https://github.com/Jayeshdahiwale/RegressionCapstoneProjectII"
      ],
      "metadata": {
        "id": "h1o69JH3Eqqn"
      }
    },
    {
      "cell_type": "markdown",
      "source": [
        "# **DataSet Link -**"
      ],
      "metadata": {
        "id": "d1GjmOWgPlgc"
      }
    },
    {
      "cell_type": "markdown",
      "source": [
        "\n",
        "Dataset DriveLink:https://drive.google.com/drive/folders/1XtTzgmtM-e9jGHbIq8pLzIbo3C8NF1T2?usp=share_link"
      ],
      "metadata": {
        "id": "sliViF0jPtgu"
      }
    },
    {
      "cell_type": "markdown",
      "source": [
        "\n",
        "\n",
        "## **Questions for analysis are as follows**\n",
        "**1) Visualising the distribution of \"Sales\" & \"Customers\"?**<br>\n",
        "**2) Statistics of Sales column ?** <br>\n",
        "**3) Which rows are unnecessary and need to be removed ??** <br>\n",
        "**4) What are the outliers ?** <br>\n",
        "**5) Establishing relationship between Sales and Customers ?** <br>\n",
        "**6) How stores are performing in Sales by month based on Assortment type ?**<br>\n",
        "**7) How UPT metric compares across stores of different assortment types ?**<br>\n",
        "**8)Correlation between competition distance and UPT metric?**<br>\n",
        "**9)Which linear regression model is best?**<br>\n",
        "\n",
        "\n"
      ],
      "metadata": {
        "id": "DpeJGUA3kjGy"
      }
    },
    {
      "cell_type": "markdown",
      "source": [
        "#### **Define Your Business Objective?**"
      ],
      "metadata": {
        "id": "PH-0ReGfmX4f"
      }
    },
    {
      "cell_type": "markdown",
      "source": [
        "Increase the number of sales by predicting the rates at at optimal rate and finding the best suitalbe condition which attract the customers thereby increasing the profit for the Drug Store."
      ],
      "metadata": {
        "id": "PhDvGCAqmjP1"
      }
    },
    {
      "cell_type": "markdown",
      "source": [
        "## **Importing the required packages**"
      ],
      "metadata": {
        "id": "IkikXoI50aJd"
      }
    },
    {
      "cell_type": "code",
      "source": [
        "import numpy as np\n",
        "import pandas as pd\n",
        "import datetime as dt\n",
        "import matplotlib.pyplot as plt\n",
        "import seaborn as sns\n",
        "%matplotlib inline\n",
        "import warnings\n",
        "warnings.filterwarnings('ignore')\n",
        "import math"
      ],
      "metadata": {
        "id": "ugsJi7bk0gss"
      },
      "execution_count": null,
      "outputs": []
    },
    {
      "cell_type": "markdown",
      "source": [
        "We'll begin with the required libraries and reading our .csv files"
      ],
      "metadata": {
        "id": "L1NCSUaZ5m8D"
      }
    },
    {
      "cell_type": "code",
      "source": [
        "# mount the google drive\n",
        "from google.colab import drive\n",
        "drive.mount('/content/drive')"
      ],
      "metadata": {
        "id": "cgIqljBG1PCH"
      },
      "execution_count": null,
      "outputs": []
    },
    {
      "cell_type": "code",
      "source": [
        "# Reading the dataset file\n",
        "# dataset file googgle drive link : https://drive.google.com/file/d/185htr6OyxAZ0xb9QwxHpsUn8eTlq58v5/view?usp=share_link\n",
        "working_directory_path = '/content/drive/MyDrive/MachineLearningAlmabetterJourney/CapstoneProject2/'\n",
        "\n"
      ],
      "metadata": {
        "id": "7fIvHBHO2v1I"
      },
      "execution_count": null,
      "outputs": []
    },
    {
      "cell_type": "code",
      "source": [
        "store_lookup = pd.read_csv(working_directory_path + 'store.csv')"
      ],
      "metadata": {
        "id": "nbTCYrN01D57"
      },
      "execution_count": null,
      "outputs": []
    },
    {
      "cell_type": "code",
      "source": [
        "sales_data = pd.read_csv(working_directory_path + 'Rossmann Stores Data.csv')\n"
      ],
      "metadata": {
        "id": "TDx_ehdI5_c_"
      },
      "execution_count": null,
      "outputs": []
    },
    {
      "cell_type": "code",
      "source": [
        "store_lookup.head()"
      ],
      "metadata": {
        "id": "oVhpTAQY3zXw"
      },
      "execution_count": null,
      "outputs": []
    },
    {
      "cell_type": "code",
      "source": [
        "store_lookup.shape"
      ],
      "metadata": {
        "id": "ivc5bzQD4OQ9"
      },
      "execution_count": null,
      "outputs": []
    },
    {
      "cell_type": "code",
      "source": [
        "store_lookup.info()"
      ],
      "metadata": {
        "id": "OH-7vhpq4m26"
      },
      "execution_count": null,
      "outputs": []
    },
    {
      "cell_type": "code",
      "source": [
        "def null_cols(data):\n",
        "  columns = data.columns\n",
        "  null_cols = [(col,data[col].isna().sum()) for col in columns if data[col].isna().sum()!=0]\n",
        "  return null_cols"
      ],
      "metadata": {
        "id": "MsDr_CsU7Zms"
      },
      "execution_count": null,
      "outputs": []
    },
    {
      "cell_type": "code",
      "source": [
        "null_cols(store_lookup)"
      ],
      "metadata": {
        "id": "dhFOywrH7rCg"
      },
      "execution_count": null,
      "outputs": []
    },
    {
      "cell_type": "markdown",
      "source": [
        "We can see in store lookup table there are total 6 null columns"
      ],
      "metadata": {
        "id": "bqGg-I-U-MQz"
      }
    },
    {
      "cell_type": "code",
      "source": [
        "# Lets see the sales data\n",
        "sales_data.head()"
      ],
      "metadata": {
        "id": "Vt5JHiIY-uoY"
      },
      "execution_count": null,
      "outputs": []
    },
    {
      "cell_type": "code",
      "source": [
        "sales_data.shape"
      ],
      "metadata": {
        "id": "dUDiYrYr-8QQ"
      },
      "execution_count": null,
      "outputs": []
    },
    {
      "cell_type": "code",
      "source": [
        "sales_data.info()"
      ],
      "metadata": {
        "id": "TMUEClAO-_8x"
      },
      "execution_count": null,
      "outputs": []
    },
    {
      "cell_type": "markdown",
      "source": [
        "These is no null columns in this dataset"
      ],
      "metadata": {
        "id": "5dWEI5wv_Gex"
      }
    },
    {
      "cell_type": "code",
      "source": [
        "#lets see the starting date and end date of sales data\n",
        "print(sales_data['Date'].min())\n",
        "print(sales_data['Date'].max())"
      ],
      "metadata": {
        "id": "dOQ6bWN__PU8"
      },
      "execution_count": null,
      "outputs": []
    },
    {
      "cell_type": "markdown",
      "source": [
        "**Now we will merge the two data resources so we can more easily work with them. We will join the tables baes on the shared store column, which is a foreign key in the sales_data table and primary key in the stores_llokup table, so we'll validate the merge baed on this many to one relationship**"
      ],
      "metadata": {
        "id": "qRy7n95s_lN6"
      }
    },
    {
      "cell_type": "code",
      "source": [
        "merged_sales = sales_data.merge(store_lookup,how='left',on='Store',validate = 'many_to_one')"
      ],
      "metadata": {
        "id": "yM_V7eZqATXK"
      },
      "execution_count": null,
      "outputs": []
    },
    {
      "cell_type": "code",
      "source": [
        "merged_sales.info()"
      ],
      "metadata": {
        "id": "KRFeGVDlIojl"
      },
      "execution_count": null,
      "outputs": []
    },
    {
      "cell_type": "code",
      "source": [
        "merged_sales.shape"
      ],
      "metadata": {
        "id": "gqOKzdKSB8lo"
      },
      "execution_count": null,
      "outputs": []
    },
    {
      "cell_type": "code",
      "source": [
        "merged_sales.head()"
      ],
      "metadata": {
        "id": "JCFl4bFzMPaQ"
      },
      "execution_count": null,
      "outputs": []
    },
    {
      "cell_type": "code",
      "source": [
        "merged_sales.describe()"
      ],
      "metadata": {
        "id": "xJw-MQdnCOmM"
      },
      "execution_count": null,
      "outputs": []
    },
    {
      "cell_type": "code",
      "source": [
        "merged_sales.info()"
      ],
      "metadata": {
        "id": "ob3yKZ5uLQbn"
      },
      "execution_count": null,
      "outputs": []
    },
    {
      "cell_type": "markdown",
      "source": [
        "**Lets check the skewness of columns i.e.** <br>\n",
        " \"Day of Week\",\"Sales\",\"Customers\",\"Competion Distance\""
      ],
      "metadata": {
        "id": "bHxk_MpzI8dj"
      }
    },
    {
      "cell_type": "code",
      "source": [
        "merged_sales[['DayOfWeek','Sales','Customers','CompetitionDistance']].skew()"
      ],
      "metadata": {
        "id": "CcfRnJIQKJxU"
      },
      "execution_count": null,
      "outputs": []
    },
    {
      "cell_type": "markdown",
      "source": [
        "we can see here competition distance,customers are positively skewed<br>\n"
      ],
      "metadata": {
        "id": "4VK1MjEOKmLl"
      }
    },
    {
      "cell_type": "markdown",
      "source": [
        "# **<p>Lets check the distribution bell peak using kurotsis</p>**"
      ],
      "metadata": {
        "id": "L-PRyyVeLYgK"
      }
    },
    {
      "cell_type": "code",
      "source": [
        "merged_sales[['DayOfWeek','Sales','Customers','CompetitionDistance']].kurtosis()"
      ],
      "metadata": {
        "id": "TtquasIbLhsC"
      },
      "execution_count": null,
      "outputs": []
    },
    {
      "cell_type": "markdown",
      "source": [
        "We can see the that competition distance,and customers has highest peak...And sales and Day of week has negative kurtosis"
      ],
      "metadata": {
        "id": "bWvGhQPgL0Y8"
      }
    },
    {
      "cell_type": "markdown",
      "source": [
        "# **Question 1: Visualising the distribution of Sales and Customer columns**"
      ],
      "metadata": {
        "id": "zS0D0aA1akS-"
      }
    },
    {
      "cell_type": "markdown",
      "source": [
        "# **<p>Lets visualize the skewness and kurtosis</p>**"
      ],
      "metadata": {
        "id": "bb0kQwrv5WON"
      }
    },
    {
      "cell_type": "code",
      "source": [
        "fig,axes = plt.subplots(1,2)\n",
        "sns.distplot(merged_sales['Sales'],color=\"y\",ax=axes[0])\n",
        "sns.distplot(merged_sales['Customers'],color=\"y\",ax=axes[1])\n",
        "fig.set_size_inches(15,5)"
      ],
      "metadata": {
        "id": "OYhQqdj-5l5-"
      },
      "execution_count": null,
      "outputs": []
    },
    {
      "cell_type": "markdown",
      "source": [
        "Histograms of our Sales and Customers values show us a positive skew and high kurtosis."
      ],
      "metadata": {
        "id": "30rQSrXzOGIL"
      }
    },
    {
      "cell_type": "markdown",
      "source": [
        "# **Question 2: Statistics of Sales column**"
      ],
      "metadata": {
        "id": "rcbs2CCkbnlT"
      }
    },
    {
      "cell_type": "markdown",
      "source": [
        "# <p>**Next we will take a closer look at our statistics for sales column.**</p>"
      ],
      "metadata": {
        "id": "GM-b0tApOq_e"
      }
    },
    {
      "cell_type": "code",
      "source": [
        "print(\"skew     \" + str(round(merged_sales['Sales'].skew(),6)))\n",
        "print(\"kurtosis \" + str(round(merged_sales['Sales'].kurtosis(),6)))\n",
        "print(merged_sales['Sales'].describe().round(3))\n",
        "print(\"mode     \" + str(merged_sales['Sales'].mode()))"
      ],
      "metadata": {
        "id": "3NmGtQq1O8X4"
      },
      "execution_count": null,
      "outputs": []
    },
    {
      "cell_type": "markdown",
      "source": [
        "We can see our sales figures have a slightly positive skew, with the **mean (5773.819)** only slightly larger than the **median (5744.000)**, suggesting most outliers are to the right of the mean.\n",
        "\n",
        "High kurtosis indicates it's **leptokurtic** with the likelihood of heavy tails and outliers that may be extreme. Considering our min and max values of **0** and **41,551** sales, we aren't surprised to see there may be some extreme outliers.\n",
        "\n",
        "The max value well above the mean of 5,773.819 and outside the **standard deviation of 3849.926** helps us see how our mean ends up getting pulled slightly to the right for our positive skew.\n",
        "\n",
        "There is no mode as we don't have any stores recording the exact same number of sales on any days, which isn't surprising."
      ],
      "metadata": {
        "id": "Nl2yf2NJShUR"
      }
    }
  ]
}